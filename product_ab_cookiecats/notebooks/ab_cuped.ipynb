{
 "cells": [
  {
   "cell_type": "markdown",
   "id": "cbeb2ce6",
   "metadata": {},
   "source": [
    "# Effect Size + CUPED (Cookie Cats)\n",
    "Compute diff-in-means and show CUPED example with a pre-period covariate."
   ]
  },
  {
   "cell_type": "code",
   "execution_count": 1,
   "id": "44125492",
   "metadata": {},
   "outputs": [
    {
     "name": "stdout",
     "output_type": "stream",
     "text": [
      "Δ retention_7d = -0.0082  (95% CI [-0.0133, -0.0031])\n",
      "CUPED Δ = -0.0082  (95% CI [-0.0130, -0.0034])\n"
     ]
    }
   ],
   "source": [
    "import pandas as pd, numpy as np\n",
    "from scipy import stats\n",
    "\n",
    "df = pd.read_csv('../data/cookie_cats.csv')\n",
    "df['variant'] = df['version'].map({'gate_30':'A','gate_40':'B'})\n",
    "A = df.query(\"variant=='A'\")\n",
    "B = df.query(\"variant=='B'\")\n",
    "\n",
    "# Target metric: retention 7 as mean of 0/1\n",
    "mA, mB = A['retention_7'].mean(), B['retention_7'].mean()\n",
    "nA, nB = len(A), len(B)\n",
    "diff = mB - mA\n",
    "\n",
    "# 95% CI for diff-in-means (Bernoulli -> normal approx)\n",
    "se = np.sqrt(mA*(1-mA)/nA + mB*(1-mB)/nB)\n",
    "lo, hi = diff - 1.96*se, diff + 1.96*se\n",
    "print(f\"Δ retention_7d = {diff:.4f}  (95% CI [{lo:.4f}, {hi:.4f}])\")\n",
    "\n",
    "# CUPED using retention_1 as covariate\n",
    "xA, xB = A['retention_1'], B['retention_1']\n",
    "theta = np.cov(df['retention_7'], df['retention_1'], ddof=0)[0,1] / np.var(df['retention_1'], ddof=0)\n",
    "A_cuped = A['retention_7'] - theta*(xA - xA.mean())\n",
    "B_cuped = B['retention_7'] - theta*(xB - xB.mean())\n",
    "mA_c, mB_c = A_cuped.mean(), B_cuped.mean()\n",
    "diff_c = mB_c - mA_c\n",
    "se_c = np.sqrt(A_cuped.var()/nA + B_cuped.var()/nB)  # conservative\n",
    "lo_c, hi_c = diff_c - 1.96*se_c, diff_c + 1.96*se_c\n",
    "print(f\"CUPED Δ = {diff_c:.4f}  (95% CI [{lo_c:.4f}, {hi_c:.4f}])\")\n",
    "\n",
    "# save artifct\n",
    "with open('../docs/effect_size_ci.txt','w') as f:\n",
    "    f.write(f\"diff={diff:.4f}, CI=[{lo:.4f},{hi:.4f}], diff_cuped={diff_c:.4f}, CI_cuped=[{lo_c:.4f},{hi_c:.4f}]\\n\")\n"
   ]
  },
  {
   "cell_type": "code",
   "execution_count": null,
   "id": "516c313b-1e8b-42db-bad6-a2229ad88801",
   "metadata": {},
   "outputs": [],
   "source": []
  }
 ],
 "metadata": {
  "kernelspec": {
   "display_name": "Python 3 (ipykernel)",
   "language": "python",
   "name": "python3"
  },
  "language_info": {
   "codemirror_mode": {
    "name": "ipython",
    "version": 3
   },
   "file_extension": ".py",
   "mimetype": "text/x-python",
   "name": "python",
   "nbconvert_exporter": "python",
   "pygments_lexer": "ipython3",
   "version": "3.11.5"
  }
 },
 "nbformat": 4,
 "nbformat_minor": 5
}
