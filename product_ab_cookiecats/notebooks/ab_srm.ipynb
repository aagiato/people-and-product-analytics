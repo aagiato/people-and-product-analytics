{
 "cells": [
  {
   "cell_type": "markdown",
   "id": "cdbcc92f",
   "metadata": {},
   "source": [
    "# SRM Check (Cookie Cats)\n",
    "Counts by variant and chi-square test."
   ]
  },
  {
   "cell_type": "code",
   "execution_count": 2,
   "id": "71430747",
   "metadata": {},
   "outputs": [
    {
     "name": "stdout",
     "output_type": "stream",
     "text": [
      "Loading: C:\\Users\\aagia\\Desktop\\Project Work\\people-and-product-analytics\\product_ab_cookiecats\\data\\cookie_cats.csv\n"
     ]
    },
    {
     "data": {
      "text/html": [
       "<div>\n",
       "<style scoped>\n",
       "    .dataframe tbody tr th:only-of-type {\n",
       "        vertical-align: middle;\n",
       "    }\n",
       "\n",
       "    .dataframe tbody tr th {\n",
       "        vertical-align: top;\n",
       "    }\n",
       "\n",
       "    .dataframe thead th {\n",
       "        text-align: right;\n",
       "    }\n",
       "</style>\n",
       "<table border=\"1\" class=\"dataframe\">\n",
       "  <thead>\n",
       "    <tr style=\"text-align: right;\">\n",
       "      <th></th>\n",
       "      <th>users</th>\n",
       "    </tr>\n",
       "    <tr>\n",
       "      <th>variant</th>\n",
       "      <th></th>\n",
       "    </tr>\n",
       "  </thead>\n",
       "  <tbody>\n",
       "    <tr>\n",
       "      <th>A</th>\n",
       "      <td>44700</td>\n",
       "    </tr>\n",
       "    <tr>\n",
       "      <th>B</th>\n",
       "      <td>45489</td>\n",
       "    </tr>\n",
       "  </tbody>\n",
       "</table>\n",
       "</div>"
      ],
      "text/plain": [
       "         users\n",
       "variant       \n",
       "A        44700\n",
       "B        45489"
      ]
     },
     "metadata": {},
     "output_type": "display_data"
    },
    {
     "name": "stdout",
     "output_type": "stream",
     "text": [
      "SRM chi^2=6.902, p=0.0086  (p<0.05 ⇒ SRM problem)\n",
      "Wrote: C:\\Users\\aagia\\Desktop\\Project Work\\people-and-product-analytics\\product_ab_cookiecats\\docs\\srm_counts.csv and C:\\Users\\aagia\\Desktop\\Project Work\\people-and-product-analytics\\product_ab_cookiecats\\docs\\srm_result.txt\n"
     ]
    }
   ],
   "source": [
    "# === SRM: counts + chi-square; save artifacts to ../docs ===\n",
    "from pathlib import Path\n",
    "import pandas as pd\n",
    "from scipy import stats\n",
    "\n",
    "data_path = Path('../data/cookie_cats.csv').resolve()\n",
    "docs_dir  = Path('../docs').resolve()\n",
    "print(\"Loading:\", data_path)\n",
    "assert data_path.exists(), f\"Missing dataset at: {data_path}\"\n",
    "\n",
    "df = pd.read_csv(data_path)\n",
    "\n",
    "# map to A/B (handles either 'version' or 'variant' being present)\n",
    "if 'variant' in df.columns:\n",
    "    df['variant'] = df['variant'].map({'A':'A','B':'B'}).fillna(df['variant'])\n",
    "elif 'version' in df.columns:\n",
    "    df['variant'] = df['version'].map({'gate_30':'A','gate_40':'B'})\n",
    "else:\n",
    "    raise KeyError(\"Expected a 'version' or 'variant' column.\")\n",
    "\n",
    "counts = df['variant'].value_counts().reindex(['A','B']).fillna(0).astype(int)\n",
    "display(counts.to_frame('users'))\n",
    "\n",
    "# SRM vs 50/50\n",
    "total = counts.sum()\n",
    "expected = [total/2, total/2]\n",
    "chi2, pval = stats.chisquare(counts.values, f_exp=expected)\n",
    "print(f\"SRM chi^2={chi2:.3f}, p={pval:.4f}  (p<0.05 ⇒ SRM problem)\")\n",
    "\n",
    "# write artifacts\n",
    "docs_dir.mkdir(parents=True, exist_ok=True)\n",
    "(counts.to_frame('users')).to_csv(docs_dir/'srm_counts.csv')\n",
    "with open(docs_dir/'srm_result.txt', 'w') as f:\n",
    "    f.write(f\"chi2={chi2:.3f}, p={pval:.4f}\\n\")\n",
    "\n",
    "print(\"Wrote:\", docs_dir/'srm_counts.csv', \"and\", docs_dir/'srm_result.txt')\n"
   ]
  },
  {
   "cell_type": "code",
   "execution_count": null,
   "id": "ea912a00-a4e4-421d-b575-591d33d1c53e",
   "metadata": {},
   "outputs": [
    {
     "name": "stdout",
     "output_type": "stream",
     "text": [
      "Docs path: C:\\Users\\aagia\\Desktop\\Project Work\\people-and-product-analytics\\product_ab_cookiecats\\docs\n",
      "Exists? True\n",
      "Contents now: [WindowsPath('C:/Users/aagia/Desktop/Project Work/people-and-product-analytics/product_ab_cookiecats/docs/ab_decision_memo.md')]\n"
     ]
    }
   ],
   "source": []
  }
 ],
 "metadata": {
  "kernelspec": {
   "display_name": "Python 3 (ipykernel)",
   "language": "python",
   "name": "python3"
  },
  "language_info": {
   "codemirror_mode": {
    "name": "ipython",
    "version": 3
   },
   "file_extension": ".py",
   "mimetype": "text/x-python",
   "name": "python",
   "nbconvert_exporter": "python",
   "pygments_lexer": "ipython3",
   "version": "3.11.5"
  }
 },
 "nbformat": 4,
 "nbformat_minor": 5
}
