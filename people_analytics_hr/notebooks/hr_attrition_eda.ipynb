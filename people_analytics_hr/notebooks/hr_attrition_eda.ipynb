import pandas as pd

# Load dataset
df = pd.read_csv("../data/WA_Fn-UseC_-HR-Employee-Attrition.csv")

# Preview
df.head()
df.info()
df.describe(include="all")
